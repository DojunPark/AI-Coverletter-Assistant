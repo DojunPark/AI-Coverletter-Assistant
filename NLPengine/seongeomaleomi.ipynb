# ending mark(선어말 어미- 어말어미) 자동 완성

import random

l_end_start = ['하', '했']
l_nopim ={
    '상':'-시-',
}
l_sijae = {
    '과거':'-었-',
    '현재':'-ㄴ-',
    '미래':'-ㄹ 것-',
}
l_mood = {
    '평서':'-',
    '추측':'-겠-',
    '의무':'-아/어야-'
}
l_final = {
    '정중':'-ㅂ니다.',
    '문어':'-ㄴ다.',
    '반말':'어'}
ll_pre_final = [l_nopim, l_sijae, l_mood, l_final]
def gen_ending_mark(var_string, nopim, sijae, mood, final, f_random=False):
#     if var_string=='하':
    res = var_string    # var_string 은 입력된 캐릭터 1 글자.
    if f_random==True:
        for item in ll_pre_final:
            res += random.choice(list(item.values()))
    else:
        res += l_nopim[nopim]+l_sijae[sijae]+l_mood[mood]+l_final[final]
    return res.replace('-', ' ') 

gen_ending_mark('하', '상', '과거','추측','정중')
        
# xml file
# a = {과거:-었-{
#     {평서:-{정중:'-ㅂ니다',
#             문어:'-ㄴ다'
#             ,
#     추측:-겠-,
#     의무:-아/어야},
#      미래:-ㄹ 것{
#     {평서:-,
#     의무:-이어야(만),
#     }
#      }
# }}
# import xml
# a['과거']['평서']
# a['미래']['추측']
#      error

# 각 feature 별 랜덤으로 원소를 추출해서 조합한다.


import re
pat = re.compile('[^가-힣]')
for i in range(100):
    res = gen_ending_mark('하', '상', '과거','추측','정중', f_random=True)
#     res = pat.sub('',res)
#     print('{:40} {}'.format(res, res.replace(' ', '')))
    print('{:40} {}'.format(res, res.replace(' ', '')))
